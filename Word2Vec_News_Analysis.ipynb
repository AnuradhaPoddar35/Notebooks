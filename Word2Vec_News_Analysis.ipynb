{
 "cells": [
  {
   "cell_type": "markdown",
   "metadata": {},
   "source": [
    "# Fun With Word2Vec: News Headlines"
   ]
  },
  {
   "cell_type": "code",
   "execution_count": 221,
   "metadata": {},
   "outputs": [],
   "source": [
    "import pandas as pd\n",
    "import gensim\n",
    "import matplotlib.pyplot as plt\n",
    "import seaborn as sns\n",
    "import numpy as np"
   ]
  },
  {
   "cell_type": "code",
   "execution_count": 222,
   "metadata": {},
   "outputs": [],
   "source": [
    "main_data = pd.read_csv('News_Final.csv')"
   ]
  },
  {
   "cell_type": "code",
   "execution_count": 223,
   "metadata": {
    "scrolled": true
   },
   "outputs": [
    {
     "data": {
      "text/html": [
       "<div>\n",
       "<style scoped>\n",
       "    .dataframe tbody tr th:only-of-type {\n",
       "        vertical-align: middle;\n",
       "    }\n",
       "\n",
       "    .dataframe tbody tr th {\n",
       "        vertical-align: top;\n",
       "    }\n",
       "\n",
       "    .dataframe thead th {\n",
       "        text-align: right;\n",
       "    }\n",
       "</style>\n",
       "<table border=\"1\" class=\"dataframe\">\n",
       "  <thead>\n",
       "    <tr style=\"text-align: right;\">\n",
       "      <th></th>\n",
       "      <th>IDLink</th>\n",
       "      <th>Title</th>\n",
       "      <th>Headline</th>\n",
       "      <th>Source</th>\n",
       "      <th>Topic</th>\n",
       "      <th>PublishDate</th>\n",
       "      <th>SentimentTitle</th>\n",
       "      <th>SentimentHeadline</th>\n",
       "      <th>Facebook</th>\n",
       "      <th>GooglePlus</th>\n",
       "      <th>LinkedIn</th>\n",
       "    </tr>\n",
       "  </thead>\n",
       "  <tbody>\n",
       "    <tr>\n",
       "      <th>0</th>\n",
       "      <td>99248.0</td>\n",
       "      <td>Obama Lays Wreath at Arlington National Cemetery</td>\n",
       "      <td>Obama Lays Wreath at Arlington National Cemete...</td>\n",
       "      <td>USA TODAY</td>\n",
       "      <td>obama</td>\n",
       "      <td>2002-04-02 00:00:00</td>\n",
       "      <td>0.000000</td>\n",
       "      <td>-0.053300</td>\n",
       "      <td>-1</td>\n",
       "      <td>-1</td>\n",
       "      <td>-1</td>\n",
       "    </tr>\n",
       "    <tr>\n",
       "      <th>1</th>\n",
       "      <td>10423.0</td>\n",
       "      <td>A Look at the Health of the Chinese Economy</td>\n",
       "      <td>Tim Haywood, investment director business-unit...</td>\n",
       "      <td>Bloomberg</td>\n",
       "      <td>economy</td>\n",
       "      <td>2008-09-20 00:00:00</td>\n",
       "      <td>0.208333</td>\n",
       "      <td>-0.156386</td>\n",
       "      <td>-1</td>\n",
       "      <td>-1</td>\n",
       "      <td>-1</td>\n",
       "    </tr>\n",
       "    <tr>\n",
       "      <th>2</th>\n",
       "      <td>18828.0</td>\n",
       "      <td>Nouriel Roubini: Global Economy Not Back to 2008</td>\n",
       "      <td>Nouriel Roubini, NYU professor and chairman at...</td>\n",
       "      <td>Bloomberg</td>\n",
       "      <td>economy</td>\n",
       "      <td>2012-01-28 00:00:00</td>\n",
       "      <td>-0.425210</td>\n",
       "      <td>0.139754</td>\n",
       "      <td>-1</td>\n",
       "      <td>-1</td>\n",
       "      <td>-1</td>\n",
       "    </tr>\n",
       "    <tr>\n",
       "      <th>3</th>\n",
       "      <td>27788.0</td>\n",
       "      <td>Finland GDP Expands In Q4</td>\n",
       "      <td>Finland's economy expanded marginally in the t...</td>\n",
       "      <td>RTT News</td>\n",
       "      <td>economy</td>\n",
       "      <td>2015-03-01 00:06:00</td>\n",
       "      <td>0.000000</td>\n",
       "      <td>0.026064</td>\n",
       "      <td>-1</td>\n",
       "      <td>-1</td>\n",
       "      <td>-1</td>\n",
       "    </tr>\n",
       "    <tr>\n",
       "      <th>4</th>\n",
       "      <td>27789.0</td>\n",
       "      <td>Tourism, govt spending buoys Thai economy in J...</td>\n",
       "      <td>Tourism and public spending continued to boost...</td>\n",
       "      <td>The Nation - Thailand&amp;#39;s English news</td>\n",
       "      <td>economy</td>\n",
       "      <td>2015-03-01 00:11:00</td>\n",
       "      <td>0.000000</td>\n",
       "      <td>0.141084</td>\n",
       "      <td>-1</td>\n",
       "      <td>-1</td>\n",
       "      <td>-1</td>\n",
       "    </tr>\n",
       "  </tbody>\n",
       "</table>\n",
       "</div>"
      ],
      "text/plain": [
       "    IDLink                                              Title  \\\n",
       "0  99248.0   Obama Lays Wreath at Arlington National Cemetery   \n",
       "1  10423.0        A Look at the Health of the Chinese Economy   \n",
       "2  18828.0   Nouriel Roubini: Global Economy Not Back to 2008   \n",
       "3  27788.0                          Finland GDP Expands In Q4   \n",
       "4  27789.0  Tourism, govt spending buoys Thai economy in J...   \n",
       "\n",
       "                                            Headline  \\\n",
       "0  Obama Lays Wreath at Arlington National Cemete...   \n",
       "1  Tim Haywood, investment director business-unit...   \n",
       "2  Nouriel Roubini, NYU professor and chairman at...   \n",
       "3  Finland's economy expanded marginally in the t...   \n",
       "4  Tourism and public spending continued to boost...   \n",
       "\n",
       "                                     Source    Topic          PublishDate  \\\n",
       "0                                 USA TODAY    obama  2002-04-02 00:00:00   \n",
       "1                                 Bloomberg  economy  2008-09-20 00:00:00   \n",
       "2                                 Bloomberg  economy  2012-01-28 00:00:00   \n",
       "3                                  RTT News  economy  2015-03-01 00:06:00   \n",
       "4  The Nation - Thailand&#39;s English news  economy  2015-03-01 00:11:00   \n",
       "\n",
       "   SentimentTitle  SentimentHeadline  Facebook  GooglePlus  LinkedIn  \n",
       "0        0.000000          -0.053300        -1          -1        -1  \n",
       "1        0.208333          -0.156386        -1          -1        -1  \n",
       "2       -0.425210           0.139754        -1          -1        -1  \n",
       "3        0.000000           0.026064        -1          -1        -1  \n",
       "4        0.000000           0.141084        -1          -1        -1  "
      ]
     },
     "execution_count": 223,
     "metadata": {},
     "output_type": "execute_result"
    }
   ],
   "source": [
    "main_data.head()"
   ]
  },
  {
   "cell_type": "markdown",
   "metadata": {},
   "source": [
    "# Preprocessing\n",
    "\n",
    "We'll start by doing some cleaning and manipulation on the text data. In particular, we need to:\n",
    "1. Get individual words from article titles\n",
    "2. Use NLTK to filter out stopwords, punctuation, and any words that are not known to Word2Vec\n",
    "3. Turn the words into vector representations using Word2Vec"
   ]
  },
  {
   "cell_type": "code",
   "execution_count": 224,
   "metadata": {},
   "outputs": [
    {
     "data": {
      "text/plain": [
       "(93239,)"
      ]
     },
     "execution_count": 224,
     "metadata": {},
     "output_type": "execute_result"
    }
   ],
   "source": [
    "# Grab all the article titles\n",
    "article_titles = main_data['Title']\n",
    "article_titles.shape"
   ]
  },
  {
   "cell_type": "code",
   "execution_count": 225,
   "metadata": {},
   "outputs": [
    {
     "data": {
      "text/plain": [
       "['obama',\n",
       " 'lays',\n",
       " 'wreath',\n",
       " 'arlington',\n",
       " 'national',\n",
       " 'cemetery',\n",
       " 'look',\n",
       " 'health',\n",
       " 'chinese',\n",
       " 'economy']"
      ]
     },
     "execution_count": 225,
     "metadata": {},
     "output_type": "execute_result"
    }
   ],
   "source": [
    "# Create a list of strings, where each string is an article title\n",
    "titles_list = [title for title in article_titles]\n",
    "\n",
    "# Collapse the list of strings into a single long string for processing\n",
    "big_title_string = ' '.join(titles_list)\n",
    "\n",
    "from nltk.tokenize import word_tokenize\n",
    "\n",
    "# Tokenize the string into words\n",
    "tokens = word_tokenize(big_title_string)\n",
    "\n",
    "# Remove non-alphabetic tokens, such as punctuation\n",
    "words = [word.lower() for word in tokens if word.isalpha()]\n",
    "\n",
    "# Filter out stopwords\n",
    "from nltk.corpus import stopwords\n",
    "stop_words = set(stopwords.words('english'))\n",
    "\n",
    "words = [word for word in words if not word in stop_words]\n",
    "\n",
    "# Print first 10 words\n",
    "words[:10]"
   ]
  },
  {
   "cell_type": "code",
   "execution_count": 226,
   "metadata": {},
   "outputs": [
    {
     "data": {
      "text/plain": [
       "300"
      ]
     },
     "execution_count": 226,
     "metadata": {},
     "output_type": "execute_result"
    }
   ],
   "source": [
    "# Load Word2Vec model (trained on an enormous Google corpus)\n",
    "model = gensim.models.KeyedVectors.load_word2vec_format('GoogleNews-vectors-negative300.bin', binary = True) \n",
    "\n",
    "# Check dimension of word vectors\n",
    "model.vector_size"
   ]
  },
  {
   "cell_type": "markdown",
   "metadata": {},
   "source": [
    "# Exploring Word2Vec"
   ]
  },
  {
   "cell_type": "code",
   "execution_count": 227,
   "metadata": {},
   "outputs": [
    {
     "data": {
      "text/plain": [
       "['Microsoft',\n",
       " 'Yahoo',\n",
       " 'AOL',\n",
       " 'search_engine',\n",
       " 'Yahoo!',\n",
       " 'search_engines',\n",
       " 'MSN',\n",
       " 'Gmail',\n",
       " 'Baidu',\n",
       " 'Google_Maps']"
      ]
     },
     "execution_count": 227,
     "metadata": {},
     "output_type": "execute_result"
    }
   ],
   "source": [
    "# 10 words/terms that are closer to 'Google' than to 'Apple'\n",
    "model.words_closer_than('Google', 'Apple')[:10]"
   ]
  },
  {
   "cell_type": "code",
   "execution_count": 228,
   "metadata": {},
   "outputs": [
    {
     "data": {
      "text/plain": [
       "['sea',\n",
       " 'coast',\n",
       " 'river',\n",
       " 'beach',\n",
       " 'waters',\n",
       " 'lake',\n",
       " 'coastal',\n",
       " 'marine',\n",
       " 'Ocean',\n",
       " 'underwater']"
      ]
     },
     "execution_count": 228,
     "metadata": {},
     "output_type": "execute_result"
    }
   ],
   "source": [
    "# 10 words closer to 'ocean' than to 'water'\n",
    "model.words_closer_than('ocean', 'water')[:10]"
   ]
  },
  {
   "cell_type": "markdown",
   "metadata": {},
   "source": [
    "Note that `words_closer_than` is most interesting when the words are similar or related. If the words are *too* far apart, then you get a lot of everyday words back that just so happen to be somewhat closer to `w1` than to `w2`. For example:"
   ]
  },
  {
   "cell_type": "code",
   "execution_count": 229,
   "metadata": {},
   "outputs": [
    {
     "data": {
      "text/plain": [
       "['that', 'on', 'the', 'not', 'it', 'have', 'he', 'this', 'their', 'they']"
      ]
     },
     "execution_count": 229,
     "metadata": {},
     "output_type": "execute_result"
    }
   ],
   "source": [
    "model.words_closer_than('Google', 'cheese')[:10]"
   ]
  },
  {
   "cell_type": "code",
   "execution_count": 230,
   "metadata": {},
   "outputs": [
    {
     "data": {
      "text/plain": [
       "[('mccain', 0.7319011688232422),\n",
       " ('hillary', 0.7284600138664246),\n",
       " ('obamas', 0.7229631543159485),\n",
       " ('george_bush', 0.720567524433136),\n",
       " ('barack_obama', 0.7045838832855225),\n",
       " ('palin', 0.7043113708496094),\n",
       " ('clinton', 0.6934448480606079),\n",
       " ('clintons', 0.6816835403442383),\n",
       " ('sarah_palin', 0.6815145015716553),\n",
       " ('john_mccain', 0.6800708174705505)]"
      ]
     },
     "execution_count": 230,
     "metadata": {},
     "output_type": "execute_result"
    }
   ],
   "source": [
    "# Words that are most similar to 'obama'\n",
    "model.most_similar(positive = 'obama')"
   ]
  },
  {
   "cell_type": "code",
   "execution_count": 231,
   "metadata": {
    "scrolled": true
   },
   "outputs": [
    {
     "data": {
      "text/plain": [
       "[('adobe_photoshop', 0.8042365312576294),\n",
       " ('microsoft_office', 0.7978680729866028),\n",
       " ('windows_xp', 0.7926486134529114),\n",
       " ('buy_microsoft', 0.7902630567550659),\n",
       " ('cs4', 0.7494896650314331),\n",
       " ('autocad', 0.7432770729064941),\n",
       " ('photoshop', 0.7404437065124512),\n",
       " ('windows_vista', 0.7382056713104248),\n",
       " ('quickbooks', 0.7320875525474548),\n",
       " ('adobe_photoshop_cs4', 0.7269179821014404)]"
      ]
     },
     "execution_count": 231,
     "metadata": {},
     "output_type": "execute_result"
    }
   ],
   "source": [
    "# Most similar to 'microsoft'\n",
    "model.most_similar(positive = 'microsoft')"
   ]
  },
  {
   "cell_type": "code",
   "execution_count": 232,
   "metadata": {},
   "outputs": [
    {
     "data": {
      "text/plain": [
       "'cheese'"
      ]
     },
     "execution_count": 232,
     "metadata": {},
     "output_type": "execute_result"
    }
   ],
   "source": [
    "# Which of these things doesn't belong?\n",
    "model.doesnt_match(['trade', 'economy', 'deal', 'cheese'])"
   ]
  },
  {
   "cell_type": "code",
   "execution_count": 233,
   "metadata": {},
   "outputs": [
    {
     "data": {
      "text/plain": [
       "'space'"
      ]
     },
     "execution_count": 233,
     "metadata": {},
     "output_type": "execute_result"
    }
   ],
   "source": [
    "model.doesnt_match(['mountain', 'space', 'hill', 'rock'])"
   ]
  },
  {
   "cell_type": "code",
   "execution_count": 234,
   "metadata": {},
   "outputs": [
    {
     "data": {
      "text/plain": [
       "'pork'"
      ]
     },
     "execution_count": 234,
     "metadata": {},
     "output_type": "execute_result"
    }
   ],
   "source": [
    "model.doesnt_match(['apple', 'orange', 'pork', 'pear'])"
   ]
  },
  {
   "cell_type": "code",
   "execution_count": 235,
   "metadata": {},
   "outputs": [
    {
     "data": {
      "text/plain": [
       "'bain'"
      ]
     },
     "execution_count": 235,
     "metadata": {},
     "output_type": "execute_result"
    }
   ],
   "source": [
    "# Let's see if it can do companies...\n",
    "model.doesnt_match(['bain', 'google', 'microsoft', 'yahoo'])"
   ]
  },
  {
   "cell_type": "markdown",
   "metadata": {},
   "source": [
    "Impressive!\n",
    "\n",
    "So what does a word vector actually look like? Let's find out:"
   ]
  },
  {
   "cell_type": "code",
   "execution_count": 236,
   "metadata": {
    "scrolled": true
   },
   "outputs": [
    {
     "data": {
      "text/plain": [
       "array([ 0.18847656, -0.0703125 , -0.16113281,  0.03857422, -0.04956055,\n",
       "       -0.23046875, -0.15722656, -0.16992188,  0.17089844, -0.01208496,\n",
       "       -0.16015625, -0.02770996,  0.05932617,  0.00491333, -0.13769531,\n",
       "        0.39257812,  0.06201172,  0.30859375,  0.12890625, -0.07373047],\n",
       "      dtype=float32)"
      ]
     },
     "execution_count": 236,
     "metadata": {},
     "output_type": "execute_result"
    }
   ],
   "source": [
    "economy_vec = model['economy']\n",
    "economy_vec[:20] # First 20 components"
   ]
  },
  {
   "cell_type": "markdown",
   "metadata": {},
   "source": [
    "Okay, back to our last bit of preprocessing."
   ]
  },
  {
   "cell_type": "code",
   "execution_count": 237,
   "metadata": {},
   "outputs": [
    {
     "data": {
      "text/plain": [
       "(21805, 300)"
      ]
     },
     "execution_count": 237,
     "metadata": {},
     "output_type": "execute_result"
    }
   ],
   "source": [
    "# Filter the list of vectors to include only those that Word2Vec has a vector for\n",
    "vector_list = [model[word] for word in words if word in model.vocab]\n",
    "\n",
    "# Create a list of the words corresponding to these vectors\n",
    "words_filtered = [word for word in words if word in model.vocab]\n",
    "\n",
    "# Zip the words together with their vector representations\n",
    "word_vec_zip = zip(words_filtered, vector_list)\n",
    "\n",
    "# Cast to a dict so we can turn it into a dataframe\n",
    "word_vec_dict = dict(word_vec_zip)\n",
    "df = pd.DataFrame.from_dict(word_vec_dict, orient='index')\n",
    "df.shape"
   ]
  },
  {
   "cell_type": "markdown",
   "metadata": {},
   "source": [
    "Now we have a bunch of tidy vectors in a DataFrame. Each column is the word's component for that dimension (300 dimensions total)."
   ]
  },
  {
   "cell_type": "code",
   "execution_count": 238,
   "metadata": {},
   "outputs": [
    {
     "data": {
      "text/html": [
       "<div>\n",
       "<style scoped>\n",
       "    .dataframe tbody tr th:only-of-type {\n",
       "        vertical-align: middle;\n",
       "    }\n",
       "\n",
       "    .dataframe tbody tr th {\n",
       "        vertical-align: top;\n",
       "    }\n",
       "\n",
       "    .dataframe thead th {\n",
       "        text-align: right;\n",
       "    }\n",
       "</style>\n",
       "<table border=\"1\" class=\"dataframe\">\n",
       "  <thead>\n",
       "    <tr style=\"text-align: right;\">\n",
       "      <th></th>\n",
       "      <th>0</th>\n",
       "      <th>1</th>\n",
       "      <th>2</th>\n",
       "      <th>3</th>\n",
       "      <th>4</th>\n",
       "      <th>5</th>\n",
       "      <th>6</th>\n",
       "      <th>7</th>\n",
       "      <th>8</th>\n",
       "      <th>9</th>\n",
       "      <th>...</th>\n",
       "      <th>290</th>\n",
       "      <th>291</th>\n",
       "      <th>292</th>\n",
       "      <th>293</th>\n",
       "      <th>294</th>\n",
       "      <th>295</th>\n",
       "      <th>296</th>\n",
       "      <th>297</th>\n",
       "      <th>298</th>\n",
       "      <th>299</th>\n",
       "    </tr>\n",
       "  </thead>\n",
       "  <tbody>\n",
       "    <tr>\n",
       "      <th>obama</th>\n",
       "      <td>-0.123535</td>\n",
       "      <td>0.072266</td>\n",
       "      <td>0.171875</td>\n",
       "      <td>0.402344</td>\n",
       "      <td>-0.125977</td>\n",
       "      <td>-0.302734</td>\n",
       "      <td>-0.044922</td>\n",
       "      <td>-0.015259</td>\n",
       "      <td>0.171875</td>\n",
       "      <td>-0.043457</td>\n",
       "      <td>...</td>\n",
       "      <td>-0.055420</td>\n",
       "      <td>-0.138672</td>\n",
       "      <td>-0.064453</td>\n",
       "      <td>-0.104004</td>\n",
       "      <td>-0.267578</td>\n",
       "      <td>-0.205078</td>\n",
       "      <td>-0.111816</td>\n",
       "      <td>-0.022461</td>\n",
       "      <td>0.066895</td>\n",
       "      <td>0.026855</td>\n",
       "    </tr>\n",
       "    <tr>\n",
       "      <th>lays</th>\n",
       "      <td>-0.052246</td>\n",
       "      <td>-0.057373</td>\n",
       "      <td>0.193359</td>\n",
       "      <td>-0.106934</td>\n",
       "      <td>0.298828</td>\n",
       "      <td>-0.166016</td>\n",
       "      <td>0.137695</td>\n",
       "      <td>0.125000</td>\n",
       "      <td>-0.032227</td>\n",
       "      <td>-0.096191</td>\n",
       "      <td>...</td>\n",
       "      <td>-0.172852</td>\n",
       "      <td>-0.484375</td>\n",
       "      <td>-0.228516</td>\n",
       "      <td>0.168945</td>\n",
       "      <td>-0.291016</td>\n",
       "      <td>0.003647</td>\n",
       "      <td>0.041016</td>\n",
       "      <td>0.229492</td>\n",
       "      <td>0.248047</td>\n",
       "      <td>0.353516</td>\n",
       "    </tr>\n",
       "    <tr>\n",
       "      <th>wreath</th>\n",
       "      <td>0.166992</td>\n",
       "      <td>0.199219</td>\n",
       "      <td>-0.082031</td>\n",
       "      <td>0.142578</td>\n",
       "      <td>0.055420</td>\n",
       "      <td>-0.102539</td>\n",
       "      <td>0.103516</td>\n",
       "      <td>-0.138672</td>\n",
       "      <td>0.030884</td>\n",
       "      <td>-0.007050</td>\n",
       "      <td>...</td>\n",
       "      <td>0.015503</td>\n",
       "      <td>-0.085938</td>\n",
       "      <td>-0.173828</td>\n",
       "      <td>0.109863</td>\n",
       "      <td>0.096680</td>\n",
       "      <td>-0.102051</td>\n",
       "      <td>0.119629</td>\n",
       "      <td>-0.287109</td>\n",
       "      <td>-0.085938</td>\n",
       "      <td>0.188477</td>\n",
       "    </tr>\n",
       "    <tr>\n",
       "      <th>arlington</th>\n",
       "      <td>-0.006653</td>\n",
       "      <td>0.023926</td>\n",
       "      <td>0.141602</td>\n",
       "      <td>0.160156</td>\n",
       "      <td>0.052490</td>\n",
       "      <td>0.113281</td>\n",
       "      <td>-0.125000</td>\n",
       "      <td>-0.138672</td>\n",
       "      <td>-0.136719</td>\n",
       "      <td>0.023071</td>\n",
       "      <td>...</td>\n",
       "      <td>0.130859</td>\n",
       "      <td>0.104004</td>\n",
       "      <td>0.064453</td>\n",
       "      <td>0.068848</td>\n",
       "      <td>-0.069336</td>\n",
       "      <td>-0.137695</td>\n",
       "      <td>-0.000572</td>\n",
       "      <td>-0.125977</td>\n",
       "      <td>-0.086914</td>\n",
       "      <td>0.112793</td>\n",
       "    </tr>\n",
       "    <tr>\n",
       "      <th>national</th>\n",
       "      <td>-0.135742</td>\n",
       "      <td>0.175781</td>\n",
       "      <td>0.117188</td>\n",
       "      <td>0.078613</td>\n",
       "      <td>0.052490</td>\n",
       "      <td>-0.238281</td>\n",
       "      <td>0.092773</td>\n",
       "      <td>-0.083984</td>\n",
       "      <td>0.061523</td>\n",
       "      <td>-0.062500</td>\n",
       "      <td>...</td>\n",
       "      <td>0.034180</td>\n",
       "      <td>-0.039551</td>\n",
       "      <td>0.034424</td>\n",
       "      <td>-0.075195</td>\n",
       "      <td>0.006775</td>\n",
       "      <td>-0.110840</td>\n",
       "      <td>0.069336</td>\n",
       "      <td>-0.068359</td>\n",
       "      <td>0.032471</td>\n",
       "      <td>-0.009338</td>\n",
       "    </tr>\n",
       "  </tbody>\n",
       "</table>\n",
       "<p>5 rows × 300 columns</p>\n",
       "</div>"
      ],
      "text/plain": [
       "                0         1         2         3         4         5    \\\n",
       "obama     -0.123535  0.072266  0.171875  0.402344 -0.125977 -0.302734   \n",
       "lays      -0.052246 -0.057373  0.193359 -0.106934  0.298828 -0.166016   \n",
       "wreath     0.166992  0.199219 -0.082031  0.142578  0.055420 -0.102539   \n",
       "arlington -0.006653  0.023926  0.141602  0.160156  0.052490  0.113281   \n",
       "national  -0.135742  0.175781  0.117188  0.078613  0.052490 -0.238281   \n",
       "\n",
       "                6         7         8         9      ...          290  \\\n",
       "obama     -0.044922 -0.015259  0.171875 -0.043457    ...    -0.055420   \n",
       "lays       0.137695  0.125000 -0.032227 -0.096191    ...    -0.172852   \n",
       "wreath     0.103516 -0.138672  0.030884 -0.007050    ...     0.015503   \n",
       "arlington -0.125000 -0.138672 -0.136719  0.023071    ...     0.130859   \n",
       "national   0.092773 -0.083984  0.061523 -0.062500    ...     0.034180   \n",
       "\n",
       "                291       292       293       294       295       296  \\\n",
       "obama     -0.138672 -0.064453 -0.104004 -0.267578 -0.205078 -0.111816   \n",
       "lays      -0.484375 -0.228516  0.168945 -0.291016  0.003647  0.041016   \n",
       "wreath    -0.085938 -0.173828  0.109863  0.096680 -0.102051  0.119629   \n",
       "arlington  0.104004  0.064453  0.068848 -0.069336 -0.137695 -0.000572   \n",
       "national  -0.039551  0.034424 -0.075195  0.006775 -0.110840  0.069336   \n",
       "\n",
       "                297       298       299  \n",
       "obama     -0.022461  0.066895  0.026855  \n",
       "lays       0.229492  0.248047  0.353516  \n",
       "wreath    -0.287109 -0.085938  0.188477  \n",
       "arlington -0.125977 -0.086914  0.112793  \n",
       "national  -0.068359  0.032471 -0.009338  \n",
       "\n",
       "[5 rows x 300 columns]"
      ]
     },
     "execution_count": 238,
     "metadata": {},
     "output_type": "execute_result"
    }
   ],
   "source": [
    "df.head()"
   ]
  },
  {
   "cell_type": "markdown",
   "metadata": {},
   "source": [
    "# Dimensionality Reduction: t-SNE\n",
    "\n",
    "Next, we're going to squish (read: do dimensionality reduction on) these word vectors using t-SNE. If you're not familiar with t-SNE and its interpretations, check out [this excellent, interactive distill.pub article](https://distill.pub/2016/misread-tsne/) on t-SNE. \n",
    "\n",
    "It's important to play around with the parameters for t-SNE, as different values can produce very different results. I tested several values between 0 and 100 for perplexity, and found that it produced roughly the same shape each time. I tested several learning rates between 20 and 400 as well, and decided to leave the learning rate at its default (200)."
   ]
  },
  {
   "cell_type": "code",
   "execution_count": 239,
   "metadata": {},
   "outputs": [],
   "source": [
    "from sklearn.manifold import TSNE\n",
    "\n",
    "# Initialize t-SNE\n",
    "tsne = TSNE(n_components = 2, init = 'random', random_state = 10, perplexity = 100)\n",
    "\n",
    "# Use only 400 rows to shorten processing time\n",
    "tsne_df = tsne.fit_transform(df[:400])"
   ]
  },
  {
   "cell_type": "markdown",
   "metadata": {},
   "source": [
    "Now we're ready to plot our reduced array of word vectors and see what patterns we can find."
   ]
  },
  {
   "cell_type": "code",
   "execution_count": 240,
   "metadata": {
    "scrolled": false
   },
   "outputs": [
    {
     "data": {
      "image/png": "[encoded data removed]",
      "text/plain": [
       "<Figure size 842.4x595.44 with 1 Axes>"
      ]
     },
     "metadata": {},
     "output_type": "display_data"
    }
   ],
   "source": [
    "# Set seaborn's style to darkgrid - easier to see the text\n",
    "sns.set_style('darkgrid')\n",
    "\n",
    "# Creates a list of the indices of every 10th word\n",
    "words_to_plot = list(np.arange(0, 400, 10))\n",
    "\n",
    "# Initialize figure, set figure size\n",
    "fig, ax = plt.subplots(figsize = (11.7, 8.27))\n",
    "\n",
    "# Create scatterplot of all 400 words\n",
    "sns.scatterplot(tsne_df[:, 0], tsne_df[:, 1], ax = ax, alpha = 0.5)\n",
    "\n",
    "# First plot: Overlay words, no adjustment\n",
    "for word in words_to_plot:\n",
    "    ax.text(tsne_df[word, 0], tsne_df[word, 1], df.index[word], fontsize = 14)\n",
    "\n",
    "plt.show()"
   ]
  },
  {
   "cell_type": "markdown",
   "metadata": {},
   "source": [
    "It would look a bit better if we could repel the text annotations from each other. Let's try this plot again with the `adjustText` package."
   ]
  },
  {
   "cell_type": "code",
   "execution_count": 241,
   "metadata": {},
   "outputs": [
    {
     "data": {
      "image/png": "[encoded data removed]",
      "text/plain": [
       "<Figure size 842.4x595.44 with 1 Axes>"
      ]
     },
     "metadata": {},
     "output_type": "display_data"
    }
   ],
   "source": [
    "fig, ax = plt.subplots(figsize = (11.7, 8.27))\n",
    "sns.scatterplot(tsne_df[:, 0], tsne_df[:, 1], alpha = 0.5)\n",
    "\n",
    "# Second plot: Import adjustText, initialize list of texts\n",
    "from adjustText import adjust_text\n",
    "texts = []\n",
    "\n",
    "# Append words to list\n",
    "for word in words_to_plot:\n",
    "    texts.append(plt.text(tsne_df[word, 0], tsne_df[word, 1], df.index[word], fontsize = 14))\n",
    "    \n",
    "# Plot text using adjust_text (because overlapping text is hard to read)\n",
    "adjust_text(texts, force_points = 0.4, force_text = 0.4, \n",
    "            expand_points = (2,1), expand_text = (1,2),\n",
    "            arrowprops = dict(arrowstyle = \"-\", color = 'black', lw = 0.5))\n",
    "\n",
    "plt.show()"
   ]
  },
  {
   "cell_type": "markdown",
   "metadata": {},
   "source": [
    "Note that even though the text still overlaps some points, we no longer have overlapping text. Nifty! \n",
    "\n",
    "If you're interested in trying out `adjust_text` for your own plotting needs, you can find it [here](https://github.com/Phlya/adjustText). Be sure to import using the camelcase `adjustText`.\n",
    "\n",
    "For comparison, here's the same figure without the text adjusted:"
   ]
  },
  {
   "cell_type": "markdown",
   "metadata": {},
   "source": [
    "It's encouraging to see that even when the vector embeddings have been reduced to 2 dimensions, we see certain items clustering together. For example, we have **months** in the left/upper left, we have **corporate finance terms** near the bottom, and we have more **generic, non-topical words** (like 'full', 'really', 'slew') in the middle.\n",
    "\n",
    "Note that if we were to run the t-SNE again with different parameters, we may observe some similarities to this result, but we're not guaranteed to see the exact same patterns. t-SNE, as compared to PCA, is not deterministic. Relatedly, tightness of clusters and distances between clusters are not always meaningful. It is meant primarily as an exploratory tool, rather than as a decisive indicator of similarity. "
   ]
  },
  {
   "cell_type": "code",
   "execution_count": null,
   "metadata": {},
   "outputs": [],
   "source": [
    "# To be continued!"
   ]
  }
 ],
 "metadata": {
  "kernelspec": {
   "display_name": "Python 3",
   "language": "python",
   "name": "python3"
  },
  "language_info": {
   "codemirror_mode": {
    "name": "ipython",
    "version": 3
   },
   "file_extension": ".py",
   "mimetype": "text/x-python",
   "name": "python",
   "nbconvert_exporter": "python",
   "pygments_lexer": "ipython3",
   "version": "3.7.0"
  }
 },
 "nbformat": 4,
 "nbformat_minor": 2
}
